{
 "cells": [
  {
   "cell_type": "markdown",
   "metadata": {},
   "source": [
    "# Workout\n"
   ]
  },
  {
   "cell_type": "markdown",
   "metadata": {},
   "source": [
    "### [Quick intro to the project, feel free to keep it short]"
   ]
  },
  {
   "cell_type": "code",
   "execution_count": 1,
   "metadata": {
    "collapsed": true,
    "jupyter": {
     "outputs_hidden": true
    }
   },
   "outputs": [],
   "source": [
    "# Not-exhaustive project checklist\n",
    "# Note: this is not a writing assignment, but you should still incorporate comments or headers throughout\n",
    "# -- This will help others who review your work, but will also help you keep track of what you're doing\n",
    "# -- Just think about what would help you understand a peer's project when you have to grade theirs later\n",
    "\n",
    "\n",
    "# 1) Dataset included\n",
    "# 1a) Dataset explained/documented when used\n",
    "# 2) Analysis performed\n",
    "# 2a) Analysis steps documented, explained briefly\n",
    "# 3) Visualizations/outputs\n",
    "# 4) Conclusion\n",
    "# ---Did you answer your questions?\n",
    "# ---Did you find anything else?\n",
    "# ---What problems did you run into?\n",
    "# ---Any suggestions for future research?\n",
    "\n",
    "# Critical checks before submission\n",
    "# - Does the noteboook run without error? (Kernel>restart & run all => no errors at all? No long periods of processing?)\n",
    "# - Do you have your dataset included here? You shouldn't be connecting to any external data\n",
    "# - - Even if external datasets work here, they WILL NOT work for peer-grading, and you may get a 0."
   ]
  },
  {
   "cell_type": "markdown",
   "metadata": {},
   "source": [
    "### Remember: the project rules and rubric are documented in Piazza post @2381. If you have any questions you should ask them there. The checklist above is just an example of a template/workflow we would use."
   ]
  },
  {
   "cell_type": "markdown",
   "metadata": {},
   "source": [
    "### You do not need to use this template. You can delete it and upload your own notebook if you want. If you already created a notebook locally, you may upload it directly into Vocareum and delete this one when you submit. Or you may copy your code into here from that notebook, it doesn't make a difference. Your peers will see the entirety of what's in this work area, so the notebook name doesn't matter."
   ]
  },
  {
   "cell_type": "code",
   "execution_count": null,
   "metadata": {
    "collapsed": true,
    "jupyter": {
     "outputs_hidden": true
    }
   },
   "outputs": [],
   "source": []
  }
 ],
 "metadata": {
  "kernelspec": {
   "display_name": "Python 3 (ipykernel)",
   "language": "python",
   "name": "python3"
  },
  "language_info": {
   "codemirror_mode": {
    "name": "ipython",
    "version": 3
   },
   "file_extension": ".py",
   "mimetype": "text/x-python",
   "name": "python",
   "nbconvert_exporter": "python",
   "pygments_lexer": "ipython3",
   "version": "3.12.4"
  }
 },
 "nbformat": 4,
 "nbformat_minor": 4
}
